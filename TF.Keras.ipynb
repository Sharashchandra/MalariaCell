{
  "nbformat": 4,
  "nbformat_minor": 0,
  "metadata": {
    "colab": {
      "name": "TF.Keras.ipynb",
      "version": "0.3.2",
      "provenance": []
    },
    "language_info": {
      "codemirror_mode": {
        "name": "ipython",
        "version": 3
      },
      "file_extension": ".py",
      "mimetype": "text/x-python",
      "name": "python",
      "nbconvert_exporter": "python",
      "pygments_lexer": "ipython3",
      "version": "3.5.6"
    },
    "kernelspec": {
      "name": "python3",
      "display_name": "Python 3"
    },
    "accelerator": "GPU"
  },
  "cells": [
    {
      "cell_type": "code",
      "metadata": {
        "id": "b1w8hFklOtsJ",
        "colab_type": "code",
        "colab": {
          "base_uri": "https://localhost:8080/",
          "height": 538
        },
        "outputId": "2c25d7f8-adb7-44e7-fba6-5ca94fb40bb6"
      },
      "source": [
        "from tensorflow.python.client import device_lib\n",
        "print(device_lib.list_local_devices())"
      ],
      "execution_count": 1,
      "outputs": [
        {
          "output_type": "stream",
          "text": [
            "[name: \"/device:CPU:0\"\n",
            "device_type: \"CPU\"\n",
            "memory_limit: 268435456\n",
            "locality {\n",
            "}\n",
            "incarnation: 7352315539069320084\n",
            ", name: \"/device:XLA_CPU:0\"\n",
            "device_type: \"XLA_CPU\"\n",
            "memory_limit: 17179869184\n",
            "locality {\n",
            "}\n",
            "incarnation: 15048544752925070751\n",
            "physical_device_desc: \"device: XLA_CPU device\"\n",
            ", name: \"/device:XLA_GPU:0\"\n",
            "device_type: \"XLA_GPU\"\n",
            "memory_limit: 17179869184\n",
            "locality {\n",
            "}\n",
            "incarnation: 6744734475858507089\n",
            "physical_device_desc: \"device: XLA_GPU device\"\n",
            ", name: \"/device:GPU:0\"\n",
            "device_type: \"GPU\"\n",
            "memory_limit: 11326753997\n",
            "locality {\n",
            "  bus_id: 1\n",
            "  links {\n",
            "  }\n",
            "}\n",
            "incarnation: 9280210941149818812\n",
            "physical_device_desc: \"device: 0, name: Tesla K80, pci bus id: 0000:00:04.0, compute capability: 3.7\"\n",
            "]\n"
          ],
          "name": "stdout"
        }
      ]
    },
    {
      "cell_type": "code",
      "metadata": {
        "id": "0VS5EEmKOsQH",
        "colab_type": "code",
        "colab": {}
      },
      "source": [
        "import pickle\n",
        "import tensorflow as tf\n",
        "from tensorflow.keras.models import Sequential\n",
        "from tensorflow.keras.layers import Conv2D, Flatten, Dropout, Dense, MaxPooling2D"
      ],
      "execution_count": 0,
      "outputs": []
    },
    {
      "cell_type": "code",
      "metadata": {
        "id": "4DkM4H_-OsQL",
        "colab_type": "code",
        "colab": {}
      },
      "source": [
        "file = open('./MalariaCell/X.pickle', 'rb')\n",
        "X = pickle.load(file)\n",
        "file.close()"
      ],
      "execution_count": 0,
      "outputs": []
    },
    {
      "cell_type": "code",
      "metadata": {
        "id": "7g3k0ePDOsQN",
        "colab_type": "code",
        "colab": {}
      },
      "source": [
        "file = open('./MalariaCell/y.pickle', 'rb')\n",
        "y = pickle.load(file)\n",
        "file.close()"
      ],
      "execution_count": 0,
      "outputs": []
    },
    {
      "cell_type": "code",
      "metadata": {
        "id": "ZY2FYMayRccc",
        "colab_type": "code",
        "colab": {}
      },
      "source": [
        "file = open('./MalariaCell/X_test.pickle', 'rb')\n",
        "X_test = pickle.load(file)\n",
        "file.close()"
      ],
      "execution_count": 0,
      "outputs": []
    },
    {
      "cell_type": "code",
      "metadata": {
        "id": "ONswik6JRc5z",
        "colab_type": "code",
        "colab": {}
      },
      "source": [
        "file = open('./MalariaCell/y_test.pickle', 'rb')\n",
        "y_test = pickle.load(file)\n",
        "file.close()"
      ],
      "execution_count": 0,
      "outputs": []
    },
    {
      "cell_type": "code",
      "metadata": {
        "id": "iQGfAtAIOsQR",
        "colab_type": "code",
        "colab": {}
      },
      "source": [
        "X = X/255.0\n",
        "X_test = X_test/255.0"
      ],
      "execution_count": 0,
      "outputs": []
    },
    {
      "cell_type": "code",
      "metadata": {
        "id": "hyzmMNCEOsQT",
        "colab_type": "code",
        "colab": {}
      },
      "source": [
        "model = Sequential()"
      ],
      "execution_count": 0,
      "outputs": []
    },
    {
      "cell_type": "code",
      "metadata": {
        "id": "M2v74OvNOsQV",
        "colab_type": "code",
        "colab": {
          "base_uri": "https://localhost:8080/",
          "height": 104
        },
        "outputId": "60eb0cd9-9d7d-4bac-e62e-413db58f2712"
      },
      "source": [
        "model.add(Conv2D(filters=32, kernel_size=(5, 5), activation='relu', input_shape=(64, 64, 1)))\n",
        "model.add(MaxPooling2D(pool_size=(2, 2)))\n",
        "model.add(Conv2D(filters=64, kernel_size=(5, 5), activation='relu'))\n",
        "model.add(MaxPooling2D(pool_size=(2, 2)))"
      ],
      "execution_count": 9,
      "outputs": [
        {
          "output_type": "stream",
          "text": [
            "WARNING: Logging before flag parsing goes to stderr.\n",
            "W0712 13:04:28.048888 140672255408000 deprecation.py:506] From /usr/local/lib/python3.6/dist-packages/tensorflow/python/ops/init_ops.py:1251: calling VarianceScaling.__init__ (from tensorflow.python.ops.init_ops) with dtype is deprecated and will be removed in a future version.\n",
            "Instructions for updating:\n",
            "Call initializer instance with the dtype argument instead of passing it to the constructor\n"
          ],
          "name": "stderr"
        }
      ]
    },
    {
      "cell_type": "code",
      "metadata": {
        "id": "CGVaeGDMOsQX",
        "colab_type": "code",
        "colab": {}
      },
      "source": [
        "model.add(Flatten())"
      ],
      "execution_count": 0,
      "outputs": []
    },
    {
      "cell_type": "code",
      "metadata": {
        "id": "VQDmTalDOsQZ",
        "colab_type": "code",
        "colab": {}
      },
      "source": [
        "model.add(Dense(units=2048, activation='relu'))\n",
        "model.add(Dropout(0.2))"
      ],
      "execution_count": 0,
      "outputs": []
    },
    {
      "cell_type": "code",
      "metadata": {
        "id": "2wgYMcGYOsQb",
        "colab_type": "code",
        "colab": {}
      },
      "source": [
        "model.add(Dense(units=1, activation='sigmoid'))"
      ],
      "execution_count": 0,
      "outputs": []
    },
    {
      "cell_type": "code",
      "metadata": {
        "id": "yLVtSQTJOsQe",
        "colab_type": "code",
        "colab": {
          "base_uri": "https://localhost:8080/",
          "height": 87
        },
        "outputId": "b64b5d0f-8a13-49ec-a994-39f76dd5d6a6"
      },
      "source": [
        "model.compile(optimizer='adam', loss='binary_crossentropy', metrics=['accuracy'])"
      ],
      "execution_count": 13,
      "outputs": [
        {
          "output_type": "stream",
          "text": [
            "W0712 13:04:28.296197 140672255408000 deprecation.py:323] From /usr/local/lib/python3.6/dist-packages/tensorflow/python/ops/nn_impl.py:180: add_dispatch_support.<locals>.wrapper (from tensorflow.python.ops.array_ops) is deprecated and will be removed in a future version.\n",
            "Instructions for updating:\n",
            "Use tf.where in 2.0, which has the same broadcast rule as np.where\n"
          ],
          "name": "stderr"
        }
      ]
    },
    {
      "cell_type": "code",
      "metadata": {
        "id": "39XptTxoOsQg",
        "colab_type": "code",
        "colab": {
          "base_uri": "https://localhost:8080/",
          "height": 420
        },
        "outputId": "b932de3b-d870-4aae-f32d-2bf7cc117766"
      },
      "source": [
        "model.summary()"
      ],
      "execution_count": 14,
      "outputs": [
        {
          "output_type": "stream",
          "text": [
            "Model: \"sequential\"\n",
            "_________________________________________________________________\n",
            "Layer (type)                 Output Shape              Param #   \n",
            "=================================================================\n",
            "conv2d (Conv2D)              (None, 60, 60, 32)        832       \n",
            "_________________________________________________________________\n",
            "max_pooling2d (MaxPooling2D) (None, 30, 30, 32)        0         \n",
            "_________________________________________________________________\n",
            "conv2d_1 (Conv2D)            (None, 26, 26, 64)        51264     \n",
            "_________________________________________________________________\n",
            "max_pooling2d_1 (MaxPooling2 (None, 13, 13, 64)        0         \n",
            "_________________________________________________________________\n",
            "flatten (Flatten)            (None, 10816)             0         \n",
            "_________________________________________________________________\n",
            "dense (Dense)                (None, 2048)              22153216  \n",
            "_________________________________________________________________\n",
            "dropout (Dropout)            (None, 2048)              0         \n",
            "_________________________________________________________________\n",
            "dense_1 (Dense)              (None, 1)                 2049      \n",
            "=================================================================\n",
            "Total params: 22,207,361\n",
            "Trainable params: 22,207,361\n",
            "Non-trainable params: 0\n",
            "_________________________________________________________________\n"
          ],
          "name": "stdout"
        }
      ]
    },
    {
      "cell_type": "code",
      "metadata": {
        "id": "smd3Mvl6OsQo",
        "colab_type": "code",
        "colab": {
          "base_uri": "https://localhost:8080/",
          "height": 554
        },
        "outputId": "e1230216-4e4c-49f2-9ed0-31cf81446dfc"
      },
      "source": [
        "model.fit(X, y, batch_size=64, epochs=15 , validation_split=0.1)"
      ],
      "execution_count": 15,
      "outputs": [
        {
          "output_type": "stream",
          "text": [
            "Train on 19841 samples, validate on 2205 samples\n",
            "Epoch 1/15\n",
            "19841/19841 [==============================] - 10s 528us/sample - loss: 0.6552 - acc: 0.6015 - val_loss: 0.5653 - val_acc: 0.7229\n",
            "Epoch 2/15\n",
            "19841/19841 [==============================] - 9s 467us/sample - loss: 0.4062 - acc: 0.8071 - val_loss: 0.2591 - val_acc: 0.8902\n",
            "Epoch 3/15\n",
            "19841/19841 [==============================] - 9s 465us/sample - loss: 0.2048 - acc: 0.9207 - val_loss: 0.1934 - val_acc: 0.9406\n",
            "Epoch 4/15\n",
            "19841/19841 [==============================] - 9s 465us/sample - loss: 0.1585 - acc: 0.9423 - val_loss: 0.1315 - val_acc: 0.9519\n",
            "Epoch 5/15\n",
            "19841/19841 [==============================] - 9s 465us/sample - loss: 0.1344 - acc: 0.9521 - val_loss: 0.1250 - val_acc: 0.9515\n",
            "Epoch 6/15\n",
            "19841/19841 [==============================] - 9s 465us/sample - loss: 0.1216 - acc: 0.9568 - val_loss: 0.1339 - val_acc: 0.9483\n",
            "Epoch 7/15\n",
            "19841/19841 [==============================] - 9s 464us/sample - loss: 0.1045 - acc: 0.9624 - val_loss: 0.1329 - val_acc: 0.9483\n",
            "Epoch 8/15\n",
            "19841/19841 [==============================] - 9s 464us/sample - loss: 0.0896 - acc: 0.9687 - val_loss: 0.1458 - val_acc: 0.9501\n",
            "Epoch 9/15\n",
            "19841/19841 [==============================] - 9s 465us/sample - loss: 0.0768 - acc: 0.9731 - val_loss: 0.1498 - val_acc: 0.9456\n",
            "Epoch 10/15\n",
            "19841/19841 [==============================] - 9s 466us/sample - loss: 0.0613 - acc: 0.9798 - val_loss: 0.1500 - val_acc: 0.9488\n",
            "Epoch 11/15\n",
            "19841/19841 [==============================] - 9s 465us/sample - loss: 0.0484 - acc: 0.9847 - val_loss: 0.1887 - val_acc: 0.9388\n",
            "Epoch 12/15\n",
            "19841/19841 [==============================] - 9s 464us/sample - loss: 0.0372 - acc: 0.9884 - val_loss: 0.2018 - val_acc: 0.9424\n",
            "Epoch 13/15\n",
            "19841/19841 [==============================] - 9s 467us/sample - loss: 0.0297 - acc: 0.9913 - val_loss: 0.2022 - val_acc: 0.9506\n",
            "Epoch 14/15\n",
            "19841/19841 [==============================] - 9s 463us/sample - loss: 0.0290 - acc: 0.9908 - val_loss: 0.3010 - val_acc: 0.9288\n",
            "Epoch 15/15\n",
            "19841/19841 [==============================] - 9s 463us/sample - loss: 0.0224 - acc: 0.9933 - val_loss: 0.2123 - val_acc: 0.9478\n"
          ],
          "name": "stdout"
        },
        {
          "output_type": "execute_result",
          "data": {
            "text/plain": [
              "<tensorflow.python.keras.callbacks.History at 0x7ff08707c160>"
            ]
          },
          "metadata": {
            "tags": []
          },
          "execution_count": 15
        }
      ]
    },
    {
      "cell_type": "code",
      "metadata": {
        "id": "kn3gE9h0Pngj",
        "colab_type": "code",
        "colab": {
          "base_uri": "https://localhost:8080/",
          "height": 34
        },
        "outputId": "c62dc864-ea57-419a-d42b-953f04f397ae"
      },
      "source": [
        "result = model.evaluate(X_test, y_test)"
      ],
      "execution_count": 16,
      "outputs": [
        {
          "output_type": "stream",
          "text": [
            "5512/5512 [==============================] - 1s 188us/sample - loss: 0.4064 - acc: 0.9211\n"
          ],
          "name": "stdout"
        }
      ]
    }
  ]
}