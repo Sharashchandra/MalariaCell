{
 "cells": [
  {
   "cell_type": "code",
   "execution_count": 25,
   "metadata": {
    "collapsed": true
   },
   "outputs": [],
   "source": [
    "import os\n",
    "import numpy as np\n",
    "import matplotlib.pyplot as plt\n",
    "import cv2\n",
    "%matplotlib inline"
   ]
  },
  {
   "cell_type": "code",
   "execution_count": 26,
   "metadata": {
    "collapsed": true
   },
   "outputs": [],
   "source": [
    "input_dir = \"D:\\Coding\\ANNs\\MalariaCell\\dataset\"\n",
    "output_dir = \"D:\\Coding\\ANNs\\MalariaCell\\dataset_greyscale\"\n",
    "categories = ['Parasitized', 'Uninfected']\n",
    "folders = ['Training_set', 'Test_set']"
   ]
  },
  {
   "cell_type": "code",
   "execution_count": 27,
   "metadata": {
    "collapsed": false
   },
   "outputs": [
    {
     "name": "stdout",
     "output_type": "stream",
     "text": [
      "Reading from D:\\Coding\\ANNs\\MalariaCell\\dataset\\Training_set\\Parasitized and saving in D:\\Coding\\ANNs\\MalariaCell\\dataset_greyscale\\Training_set\\Parasitized\n",
      "Reading from D:\\Coding\\ANNs\\MalariaCell\\dataset\\Training_set\\Uninfected and saving in D:\\Coding\\ANNs\\MalariaCell\\dataset_greyscale\\Training_set\\Uninfected\n",
      "Reading from D:\\Coding\\ANNs\\MalariaCell\\dataset\\Test_set\\Parasitized and saving in D:\\Coding\\ANNs\\MalariaCell\\dataset_greyscale\\Test_set\\Parasitized\n",
      "Reading from D:\\Coding\\ANNs\\MalariaCell\\dataset\\Test_set\\Uninfected and saving in D:\\Coding\\ANNs\\MalariaCell\\dataset_greyscale\\Test_set\\Uninfected\n",
      "Completed Successfully\n"
     ]
    }
   ],
   "source": [
    "count = 1\n",
    "for sets in folders:\n",
    "    for category in categories:\n",
    "        inp_path = os.path.join(input_dir, sets)\n",
    "        out_path = os.path.join(output_dir, sets)\n",
    "        inp_path = os.path.join(inp_path, category)\n",
    "        out_path = os.path.join(out_path, category)\n",
    "        print(\"Reading from {} and saving in {}\".format(inp_path, out_path))\n",
    "        for image in os.listdir(inp_path):\n",
    "            img = cv2.imread(os.path.join(inp_path, image), 0)\n",
    "            cv2.imwrite(\"{}.png\".format(os.path.join(out_path, str(count))), img)\n",
    "            count += 1\n",
    "print(\"Completed Successfully\")"
   ]
  }
 ],
 "metadata": {
  "kernelspec": {
   "display_name": "Python 3",
   "language": "python",
   "name": "python3"
  },
  "language_info": {
   "codemirror_mode": {
    "name": "ipython",
    "version": 3
   },
   "file_extension": ".py",
   "mimetype": "text/x-python",
   "name": "python",
   "nbconvert_exporter": "python",
   "pygments_lexer": "ipython3",
   "version": "3.5.6"
  }
 },
 "nbformat": 4,
 "nbformat_minor": 2
}
